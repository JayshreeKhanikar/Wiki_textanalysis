{
 "cells": [
  {
   "cell_type": "code",
   "execution_count": 1,
   "metadata": {},
   "outputs": [],
   "source": [
    "import re\n",
    "import requests\n",
    "import pandas as pd\n",
    "import numpy as np\n",
    "#from bs4 import BeautifulSoup\n",
    "import matplotlib.pyplot as plt\n",
    "%matplotlib inline\n",
    "import mwparserfromhell"
   ]
  },
  {
   "cell_type": "code",
   "execution_count": 30,
   "metadata": {},
   "outputs": [],
   "source": [
    "ml_bs_df = pd.read_pickle('/home/jovyan/Jupyter_Repository/Practice_exercise/Project_4-wkiAPI-/Output/ml_bs_df.p')"
   ]
  },
  {
   "cell_type": "code",
   "execution_count": 31,
   "metadata": {},
   "outputs": [
    {
     "data": {
      "text/plain": [
       "Index(['_id', 'category', 'content', 'pageid', 'title'], dtype='object')"
      ]
     },
     "execution_count": 31,
     "metadata": {},
     "output_type": "execute_result"
    }
   ],
   "source": [
    "ml_bs_df.columns"
   ]
  },
  {
   "cell_type": "code",
   "execution_count": 32,
   "metadata": {},
   "outputs": [
    {
     "data": {
      "text/html": [
       "<div>\n",
       "<table border=\"1\" class=\"dataframe\">\n",
       "  <thead>\n",
       "    <tr style=\"text-align: right;\">\n",
       "      <th></th>\n",
       "      <th>_id</th>\n",
       "      <th>category</th>\n",
       "      <th>content</th>\n",
       "      <th>pageid</th>\n",
       "      <th>title</th>\n",
       "    </tr>\n",
       "  </thead>\n",
       "  <tbody>\n",
       "    <tr>\n",
       "      <th>12772</th>\n",
       "      <td>5a1a1d3760ca0c0039389b91</td>\n",
       "      <td>Word processor stubs</td>\n",
       "      <td>Taste is a Macintosh word processor that combi...</td>\n",
       "      <td>328705</td>\n",
       "      <td>Taste (software)</td>\n",
       "    </tr>\n",
       "    <tr>\n",
       "      <th>12773</th>\n",
       "      <td>5a1a1d3760ca0c0039389b92</td>\n",
       "      <td>Word processor stubs</td>\n",
       "      <td>Ted is a word processor for the X Window Syste...</td>\n",
       "      <td>1577008</td>\n",
       "      <td>Ted (word processor)</td>\n",
       "    </tr>\n",
       "    <tr>\n",
       "      <th>12774</th>\n",
       "      <td>5a1a1d3760ca0c0039389b93</td>\n",
       "      <td>Word processor stubs</td>\n",
       "      <td>The Thorn EMI Liberator was a laptop word proc...</td>\n",
       "      <td>37628014</td>\n",
       "      <td>Thorn EMI Liberator</td>\n",
       "    </tr>\n",
       "    <tr>\n",
       "      <th>12775</th>\n",
       "      <td>5a1a1d3760ca0c0039389b94</td>\n",
       "      <td>Word processor stubs</td>\n",
       "      <td>Trelby is a free and open source screenwriting...</td>\n",
       "      <td>34306381</td>\n",
       "      <td>Trelby</td>\n",
       "    </tr>\n",
       "    <tr>\n",
       "      <th>12776</th>\n",
       "      <td>5a1a1d3760ca0c0039389b95</td>\n",
       "      <td>Word processor stubs</td>\n",
       "      <td>Word Juggler was a word processor application ...</td>\n",
       "      <td>29902828</td>\n",
       "      <td>Word Juggler</td>\n",
       "    </tr>\n",
       "    <tr>\n",
       "      <th>12777</th>\n",
       "      <td>5a1a1d3760ca0c0039389b96</td>\n",
       "      <td>Word processor stubs</td>\n",
       "      <td>WordMARC was a scientifically oriented word pr...</td>\n",
       "      <td>826279</td>\n",
       "      <td>WordMARC</td>\n",
       "    </tr>\n",
       "  </tbody>\n",
       "</table>\n",
       "</div>"
      ],
      "text/plain": [
       "                            _id              category  \\\n",
       "12772  5a1a1d3760ca0c0039389b91  Word processor stubs   \n",
       "12773  5a1a1d3760ca0c0039389b92  Word processor stubs   \n",
       "12774  5a1a1d3760ca0c0039389b93  Word processor stubs   \n",
       "12775  5a1a1d3760ca0c0039389b94  Word processor stubs   \n",
       "12776  5a1a1d3760ca0c0039389b95  Word processor stubs   \n",
       "12777  5a1a1d3760ca0c0039389b96  Word processor stubs   \n",
       "\n",
       "                                                 content    pageid  \\\n",
       "12772  Taste is a Macintosh word processor that combi...    328705   \n",
       "12773  Ted is a word processor for the X Window Syste...   1577008   \n",
       "12774  The Thorn EMI Liberator was a laptop word proc...  37628014   \n",
       "12775  Trelby is a free and open source screenwriting...  34306381   \n",
       "12776  Word Juggler was a word processor application ...  29902828   \n",
       "12777  WordMARC was a scientifically oriented word pr...    826279   \n",
       "\n",
       "                      title  \n",
       "12772      Taste (software)  \n",
       "12773  Ted (word processor)  \n",
       "12774   Thorn EMI Liberator  \n",
       "12775                Trelby  \n",
       "12776          Word Juggler  \n",
       "12777              WordMARC  "
      ]
     },
     "execution_count": 32,
     "metadata": {},
     "output_type": "execute_result"
    }
   ],
   "source": [
    "ml_bs_df.tail(6)"
   ]
  },
  {
   "cell_type": "code",
   "execution_count": 33,
   "metadata": {},
   "outputs": [
    {
     "data": {
      "text/html": [
       "<div>\n",
       "<table border=\"1\" class=\"dataframe\">\n",
       "  <thead>\n",
       "    <tr style=\"text-align: right;\">\n",
       "      <th></th>\n",
       "      <th>_id</th>\n",
       "      <th>category</th>\n",
       "      <th>content</th>\n",
       "      <th>pageid</th>\n",
       "      <th>title</th>\n",
       "    </tr>\n",
       "  </thead>\n",
       "  <tbody>\n",
       "    <tr>\n",
       "      <th>11630</th>\n",
       "      <td>5a1a1ace60ca0c003938971b</td>\n",
       "      <td>Apple II word processors</td>\n",
       "      <td>Word Juggler was a word processor application ...</td>\n",
       "      <td>29902828</td>\n",
       "      <td>Word Juggler</td>\n",
       "    </tr>\n",
       "    <tr>\n",
       "      <th>11759</th>\n",
       "      <td>5a1a1b1260ca0c003938979c</td>\n",
       "      <td>Word processor stubs</td>\n",
       "      <td>Word Juggler was a word processor application ...</td>\n",
       "      <td>29902828</td>\n",
       "      <td>Word Juggler</td>\n",
       "    </tr>\n",
       "    <tr>\n",
       "      <th>12776</th>\n",
       "      <td>5a1a1d3760ca0c0039389b95</td>\n",
       "      <td>Word processor stubs</td>\n",
       "      <td>Word Juggler was a word processor application ...</td>\n",
       "      <td>29902828</td>\n",
       "      <td>Word Juggler</td>\n",
       "    </tr>\n",
       "  </tbody>\n",
       "</table>\n",
       "</div>"
      ],
      "text/plain": [
       "                            _id                  category  \\\n",
       "11630  5a1a1ace60ca0c003938971b  Apple II word processors   \n",
       "11759  5a1a1b1260ca0c003938979c      Word processor stubs   \n",
       "12776  5a1a1d3760ca0c0039389b95      Word processor stubs   \n",
       "\n",
       "                                                 content    pageid  \\\n",
       "11630  Word Juggler was a word processor application ...  29902828   \n",
       "11759  Word Juggler was a word processor application ...  29902828   \n",
       "12776  Word Juggler was a word processor application ...  29902828   \n",
       "\n",
       "              title  \n",
       "11630  Word Juggler  \n",
       "11759  Word Juggler  \n",
       "12776  Word Juggler  "
      ]
     },
     "execution_count": 33,
     "metadata": {},
     "output_type": "execute_result"
    }
   ],
   "source": [
    "ml_bs_df[ml_bs_df['pageid']==29902828] # so many duplicates"
   ]
  },
  {
   "cell_type": "code",
   "execution_count": 34,
   "metadata": {},
   "outputs": [],
   "source": [
    "ml_bs_df['master_category'] = 'Machine learning'"
   ]
  },
  {
   "cell_type": "code",
   "execution_count": 35,
   "metadata": {},
   "outputs": [
    {
     "name": "stderr",
     "output_type": "stream",
     "text": [
      "/opt/conda/lib/python3.6/site-packages/ipykernel_launcher.py:1: SettingWithCopyWarning: \n",
      "A value is trying to be set on a copy of a slice from a DataFrame\n",
      "\n",
      "See the caveats in the documentation: http://pandas.pydata.org/pandas-docs/stable/indexing.html#indexing-view-versus-copy\n",
      "  \"\"\"Entry point for launching an IPython kernel.\n"
     ]
    }
   ],
   "source": [
    "ml_bs_df['master_category'][1637:] = 'Business software' "
   ]
  },
  {
   "cell_type": "code",
   "execution_count": 36,
   "metadata": {},
   "outputs": [],
   "source": [
    "ml_bs_df.drop('_id', axis = 1, inplace=True)"
   ]
  },
  {
   "cell_type": "code",
   "execution_count": 37,
   "metadata": {},
   "outputs": [
    {
     "data": {
      "text/plain": [
       "(9591, 5)"
      ]
     },
     "execution_count": 37,
     "metadata": {},
     "output_type": "execute_result"
    }
   ],
   "source": [
    "ml_bs_df.drop_duplicates(inplace=True)\n",
    "ml_bs_df.shape"
   ]
  },
  {
   "cell_type": "code",
   "execution_count": 38,
   "metadata": {},
   "outputs": [],
   "source": [
    "target = ml_bs_df[['master_category', 'category']]"
   ]
  },
  {
   "cell_type": "code",
   "execution_count": 39,
   "metadata": {},
   "outputs": [],
   "source": [
    "target.to_pickle('/home/jovyan/Jupyter_Repository/Practice_exercise/Project_4-wkiAPI-/Output/target.p')"
   ]
  },
  {
   "cell_type": "markdown",
   "metadata": {},
   "source": [
    "## Cleaning the content column of all documents, using stop words, from spacey"
   ]
  },
  {
   "cell_type": "code",
   "execution_count": 10,
   "metadata": {},
   "outputs": [
    {
     "name": "stdout",
     "output_type": "stream",
     "text": [
      "[nltk_data] Downloading package stopwords to /home/jovyan/nltk_data...\n",
      "[nltk_data]   Package stopwords is already up-to-date!\n"
     ]
    }
   ],
   "source": [
    "from spacy.en import STOP_WORDS\n",
    "from spacy.en import English\n",
    "nlp = English()\n",
    "from sklearn.feature_extraction.text import CountVectorizer, TfidfVectorizer, HashingVectorizer\n",
    "import nltk\n",
    "nltk.download('stopwords')\n",
    "from nltk.corpus import stopwords"
   ]
  },
  {
   "cell_type": "code",
   "execution_count": 11,
   "metadata": {},
   "outputs": [],
   "source": [
    "ml_bs_df['clean_content'] = ml_bs_df['content'].apply(lambda x: mwparserfromhell.parse(x).strip_code().replace('\\n', ' '))"
   ]
  },
  {
   "cell_type": "code",
   "execution_count": 12,
   "metadata": {},
   "outputs": [
    {
     "data": {
      "text/plain": [
       "'A recurrent neural network (RNN) is a class of artificial neural network where connections between units form a directed cycle. This allows it to exhibit dynamic temporal behavior. Unlike feedforward neural networks, RNNs can use their internal memory to process arbitrary sequences of inputs. This makes them applicable to tasks such as unsegmented, connected handwriting recognition or speech recognition.  History Recurrent neural networks were developed in the 1980s. Hopfield networks were invented by John Hopfield in 1982. In 1993, a neural history compressor system solved a \"Very Deep Learning\" task that required more than 1000 subsequent layers in an RNN unfolded in time.  LSTM Long short-term memory (LSTM) networks were invented by Hochreiter and Schmidhuber in 1997 and set accuracy records in multiple applications domains. Around 2007, LSTM started to revolutionize speech recognition, outperforming traditional models in certain speech applications. In 2009, a Connectionist Temporal Classification (CTC)-trained LSTM network was the first RNN to win pattern recognition contests when it won several competitions in connected handwriting recognition. In 2014, the Chinese search giant Baidu used CTC-trained RNNs to break the Switchboard Hub5\\'00 speech recognition benchmark without using any traditional speech processing methods. LSTM also improved large-vocabulary speech recognition and text-to-speech synthesis and was used in Google Android. In 2015, Google\\'s speech recognition reportedly experienced a dramatic performance jump of 49% through CTC-trained LSTM, which was used by Google voice search. LSTM broke records for improved machine translation, Language Modeling and Multilingual Language Processing. LSTM combined with convolutional neural networks (CNNs) improved automatic image captioning.  Architectures RNNs come in many variants.  Fully recurrent Basic RNNs are a network of neuron-like nodes, each with a directed (one-way) connection to every other node. Each node (neuron) has a time-varying real-valued activation. Each connection (synapse) has a modifiable real-valued weight. Nodes are either input nodes (receiving data from outside the network), output nodes (yielding results), or hidden nodes (that modify the data en route from input to output). For supervised learning in discrete time settings, sequences of real-valued input vectors arrive at the input nodes, one vector at a time. At any given time step, each non-input unit computes its current activation (result) as a nonlinear function of the weighted sum of the activations of all units that connect to it. Supervisor-given target activations can be supplied for some output units at certain time steps. For example, if the input sequence is a speech signal corresponding to a spoken digit, the final target output at the end of the sequence may be a label classifying the digit. In reinforcement learning settings, no teacher provides target signals. Instead a fitness function or reward function is occasionally used to evaluate the RNN\\'s performance, which influences its input stream through output units connected to actuators that affect the environment. This might be used to play a game in which progress is measured with the number of points won. Each sequence produces an error as the sum of the deviations of all target signals from the corresponding activations computed by the network. For a training set of numerous sequences, the total error is the sum of the errors of all individual sequences.  Recursive  A recursive neural network is created by applying the same set of weights recursively over a differentiable graph-like structure by traversing the structure in topological order. Such networks are typically also trained by the reverse mode of automatic differentiation. They can process distributed representations of structure, such as logical terms. A special case of recursive neural networks is the RNN whose structure corresponds to a linear chain. Recursive neural networks have been applied to natural language processing. The Recursive Neural Tensor Network uses a tensor-based composition function for all nodes in the tree.  Hopfield  The Hopfield network is an RNN in which all connections are symmetric. It requires stationary inputs and is thus not a general RNN, as it does not process sequences of patterns. It guarantees that it will converge. If the connections are trained using Hebbian learning then the Hopfield network can perform as robust content-addressable memory, resistant to connection alteration.  Bidirectional associative memory  Introduced by Kosko, a bidirectional associative memory (BAM) network is a variant of a Hopfield network that stores associative data as a vector. The bi-directionality comes from passing information through a matrix and its transpose. Typically, bipolar encoding is preferred to binary encoding of the associative pairs. Recently, stochastic BAM models using Markov stepping were optimized for increased network stability and relevance to real-world applications. A BAM network has two layers, either of which can be driven as an input to recall an association and produce an output on the other layer.  Elman networks and Jordan networks  An Elman network is a three-layer network (arranged horizontally as x, y, and z in the illustration) with the addition of a set of \"context units\" (u in the illustration). The middle (hidden) layer is connected to these context units fixed with a weight of one. At each time step, the input is fed-forward and a learning rule is applied. The fixed back-connections save a copy of the previous values of the hidden units in the context units (since they propagate over the connections before the learning rule is applied). Thus the network can maintain a sort of state, allowing it to perform such tasks as sequence-prediction that are beyond the power of a standard multilayer perceptron. Jordan networks are similar to Elman networks. The context units are fed from the output layer instead of the hidden layer. The context units in a Jordan network are also referred to as the state layer. They have a recurrent connection to themselves. Elman and Jordan networks are also known as \"simple recurrent networks\" (SRN). Elman network                                                                                                    h                                        t                                                                                                    =                                    σ                                        h                                                     (                                    W                                        h                                                                        x                                        t                                                     +                                    U                                        h                                                                        h                                        t                     −                     1                                                     +                                    b                                        h                                                     )                                                                                            y                                        t                                                                                                    =                                    σ                                        y                                                     (                                    W                                        y                                                                        h                                        t                                                     +                                    b                                        y                                                     )                                                                 {\\\\displaystyle {\\\\begin{aligned}h_{t}&=\\\\sigma _{h}(W_{h}x_{t}+U_{h}h_{t-1}+b_{h})\\\\\\\\y_{t}&=\\\\sigma _{y}(W_{y}h_{t}+b_{y})\\\\end{aligned}}}    Jordan network                                                                                                    h                                        t                                                                                                    =                                    σ                                        h                                                     (                                    W                                        h                                                                        x                                        t                                                     +                                    U                                        h                                                                        y                                        t                     −                     1                                                     +                                    b                                        h                                                     )                                                                                            y                                        t                                                                                                    =                                    σ                                        y                                                     (                                    W                                        y                                                                        h                                        t                                                     +                                    b                                        y                                                     )                                                                 {\\\\displaystyle {\\\\begin{aligned}h_{t}&=\\\\sigma _{h}(W_{h}x_{t}+U_{h}y_{t-1}+b_{h})\\\\\\\\y_{t}&=\\\\sigma _{y}(W_{y}h_{t}+b_{y})\\\\end{aligned}}}    Variables and functions                                    x                        t                                     {\\\\displaystyle x_{t}}   : input vector                                    h                        t                                     {\\\\displaystyle h_{t}}   : hidden layer vector                                    y                        t                                     {\\\\displaystyle y_{t}}   : output vector                         W                 {\\\\displaystyle W}   ,                         U                 {\\\\displaystyle U}    and                         b                 {\\\\displaystyle b}   : parameter matrices and vector                                    σ                        h                                     {\\\\displaystyle \\\\sigma _{h}}    and                                    σ                        y                                     {\\\\displaystyle \\\\sigma _{y}}   : Activation functions  Echo state  The echo state network (ESN) has a sparsely connected random hidden layer. The weights of output neurons are the only part of the network that can change (be trained). ESNs are good at reproducing certain time series. A variant for spiking neurons is known as a liquid state machine.  Neural history compressor The neural history compressor is an unsupervised stack of RNNs. At the input level, it learns to predict its next input from the previous inputs. Only unpredictable inputs of some RNN in the hierarchy become inputs to the next higher level RNN, which therefore recomputes its internal state only rarely. Each higher level RNN thus studies a compressed representation of the information in the RNN below. This is done such that the input sequence can be precisely reconstructed from the representation at the highest level. The system effectively minimises the description length or the negative logarithm of the probability of the data. Given a lot of learnable predictability in the incoming data sequence, the highest level RNN can use supervised learning to easily classify even deep sequences with long intervals between important events. It is possible to distill the RNN hierarchy into two RNNs: the \"conscious\" chunker (higher level) and the \"subconscious\" automatizer (lower level). Once the chunker has learned to predict and compress inputs that are unpredictable by the automatizer, then the automatizer can be forced in the next learning phase to predict or imitate through additional units the hidden units of the more slowly changing chunker. This makes it easy for the automatizer to learn appropriate, rarely changing memories across long intervals. In turn this helps the automatizer to make many of its once unpredictable inputs predictable, such that the chunker can focus on the remaining unpredictable events. A generative model partially overcame the vanishing gradient problem of automatic differentiation or backpropagation in neural networks in 1992. In 1993, such a system solved a \"Very Deep Learning\" task that required more than 1000 subsequent layers in an RNN unfolded in time.  Long short-term memory  Long short-term memory (LSTM) is a deep learning system that avoids the vanishing gradient problem. LSTM is normally augmented by recurrent gates called \"forget\" gates. LSTM prevents backpropagated errors from vanishing or exploding. Instead, errors can flow backwards through unlimited numbers of virtual layers unfolded in space. That is, LSTM can learn tasks that require memories of events that happened thousands or even millions of discrete time steps earlier. Problem-specific LSTM-like topologies can be evolved. LSTM works even given long delays between significant events and can handle signals that mix low and high frequency components. Many applications use stacks of LSTM RNNs and train them by Connectionist Temporal Classification (CTC) to find an RNN weight matrix that maximizes the probability of the label sequences in a training set, given the corresponding input sequences. CTC achieves both alignment and recognition. LSTM can learn to recognize context-sensitive languages unlike previous models based on hidden Markov models (HMM) and similar concepts.  Second order RNNs Second order RNNs use higher order weights                         w                                                        i             j             k                                     {\\\\displaystyle w{}_{ijk}}    instead of the standard                         w                                                        i             j                                     {\\\\displaystyle w{}_{ij}}    weights, and inputs and states can be a product. This allows a direct mapping to a finite state machine both in training, stability, and representation. Long short-term memory is an example of this but has no such formal mappings or proof of stability.  Gated recurrent unit  Gated recurrent units (GRUs) are a gating mechanism in recurrent neural networks introduced in 2014. Their performance on polyphonic music modeling and speech signal modeling was found to be similar to that of long short-term memory. They have fewer parameters than LSTM, as they lack an output gate.  Bi-directional Bi-directional RNNs use a finite sequence to predict or label each element of the sequence based on the element\\'s past and future contexts. This is done by concatenating the outputs of two RNNs, one processing the sequence from left to right, the other one from right to left. The combined outputs are the predictions of the teacher-given target signals. This technique proved to be especially useful when combined with LSTM RNNs.  Continuous-time A continuous time recurrent neural network (CTRNN) uses a system of ordinary differential equations to model the effects on a neuron of the incoming spike train. For a neuron                         i                 {\\\\displaystyle i}    in the network with action potential                                    y                        i                                     {\\\\displaystyle y_{i}}   , the rate of change of activation is given by:                                    τ                        i                                                                                     y                 ˙                                                               i                             =         −                    y                        i                             +                    ∑                        j             =             1                                   n                                        w                        j             i                             σ         (                    y                        j                             −                    Θ                        j                             )         +                    I                        i                             (         t         )                 {\\\\displaystyle \\\\tau _{i}{\\\\dot {y}}_{i}=-y_{i}+\\\\sum _{j=1}^{n}w_{ji}\\\\sigma (y_{j}-\\\\Theta _{j})+I_{i}(t)}    Where:                                    τ                        i                                     {\\\\displaystyle \\\\tau _{i}}    : Time constant of postsynaptic node                                    y                        i                                     {\\\\displaystyle y_{i}}    : Activation of postsynaptic node                                                                                 y                 ˙                                                               i                                     {\\\\displaystyle {\\\\dot {y}}_{i}}    : Rate of change of activation of postsynaptic node                         w                                                        j             i                                     {\\\\displaystyle w{}_{ji}}    : Weight of connection from pre to postsynaptic node                         σ         (         x         )                 {\\\\displaystyle \\\\sigma (x)}    : Sigmoid of x e.g.                         σ         (         x         )         =         1                    /                  (         1         +                    e                        −             x                             )                 {\\\\displaystyle \\\\sigma (x)=1/(1+e^{-x})}   .                                    y                        j                                     {\\\\displaystyle y_{j}}    : Activation of presynaptic node                                    Θ                        j                                     {\\\\displaystyle \\\\Theta _{j}}    : Bias of presynaptic node                                    I                        i                             (         t         )                 {\\\\displaystyle I_{i}(t)}    : Input (if any) to node CTRNNs have been applied to evolutionary robotics where they have been used to address vision, co-operation, and minimal cognitive behaviour. Note that, by the Shannon sampling theorem, discrete time recurrent neural networks can be viewed as continuous-time recurrent neural networks where the differential equations have transformed into equivalent difference equations. This transformation can be thought of as occurring after the post-synaptic node activation functions                                    y                        i                             (         t         )                 {\\\\displaystyle y_{i}(t)}    have been low-pass filtered but prior to sampling.  Hierarchical Hierarchical RNNs connect their neurons in various ways to decompose hierarchical behavior into useful subprograms.  Recurrent multilayer perceptron network Generally, a Recurrent Multi-Layer Perceptron (RMLP) network consists of cascaded subnetworks, each of which contains multiple layers of nodes. Each of these subnetworks is feed-forward except for the last layer, which can have feedback connections. Each of these subnets is connected only by feed forward connections.  Multiple timescales model A multiple timescales recurrent neural network (MTRNN) is a neural-based computational model that can simulate the functional hierarchy of the brain through self-organization that depends on spatial connection between neurons and on distinct types of neuron activities, each with distinct time properties. With such varied neuronal activities, continuous sequences of any set of behaviors are segmented into reusable primitives, which in turn are flexibly integrated into diverse sequential behaviors. The biological approval of such a type of hierarchy was discussed in the memory-prediction theory of brain function by Hawkins in his book On Intelligence.  Neural Turing machines  Neural Turing machines (NTMs) are a method of extending recurrent neural networks by coupling them to external memory resources which they can interact with by attentional processes. The combined system is analogous to a Turing machine or Von Neumann architecture but is differentiable end-to-end, allowing it to be efficiently trained with gradient descent.  Differentiable neural computer  Differentiable neural computers (DNCs) are an extension of Neural Turing machines, allowing for usage of fuzzy amounts of each memory address and a record of chronology.  Neural network pushdown automata Neural network pushdown automata (NNPDA) are similar to NTMs, but tapes are replaced by analogue stacks that are differentiable and that are trained. In this way, they are similar in complexity to recognizers of context free grammars (CFGs).  Training  Gradient descent  Gradient descent is a first-order iterative optimization algorithm for finding the minimum of a function. In neural networks, it can be used to minimize the error term by changing each weight in proportion to the derivative of the error with respect to that weight, provided the non-linear activation functions are differentiable. Various methods for doing so were developed in the 1980s and early 1990s by Werbos, Williams, Robinson, Schmidhuber, Hochreiter, Pearlmutter and others. The standard method is called \"backpropagation through time\" or BPTT, and is a generalization of back-propagation for feed-forward networks. Like that method, it is an instance of automatic differentiation in the reverse accumulation mode of Pontryagin\\'s minimum principle. A more computationally expensive online variant is called \"Real-Time Recurrent Learning\" or RTRL, which is an instance of automatic differentiation in the forward accumulation mode with stacked tangent vectors. Unlike BPTT, this algorithm is local in time but not local in space. In this context, local in space means that a unit\\'s weight vector can be updated using only information stored in the connected units and the unit itself such that update complexity of a single unit is linear in the dimensionality of the weight vector. Local in time means that the updates take place continually (on-line) and depend only on the most recent time step rather than on multiple time steps within a given time horizon as in BPTT. Biological neural networks appear to be local with respect to both time and space. For recursively computing the partial derivatives, RTRL has a time-complexity of O(number of hidden x number of weights) per time step for computing the Jacobian matrices, while BPTT only takes O(number of weights) per time step, at the cost of storing all forward activations within the given time horizon. An online hybrid between BPTT and RTRL with intermediate complexity exists, along with variants for continuous time. A major problem with gradient descent for standard RNN architectures is that error gradients vanish exponentially quickly with the size of the time lag between important events. LSTM combined with a BPTT/RTRL hybrid learning method attempts to overcome these problems. The on-line algorithm called causal recursive backpropagation (CRBP), implements and combines BPTT and RTRL paradigms for locally recurrent networks. It works with the most general locally recurrent networks. The CRBP algorithm can minimize the global error term. This fact improves stability of the algorithm, providing a unifying view on gradient calculation techniques for recurrent networks with local feedback. One approach to the computation of gradient information in RNNs with arbitrary architectures is based on signal-flow graphs diagrammatic derivation. It uses the BPTT batch algorithm, based on Lee\\'s theorem for network sensitivity calculations. It was proposed by Wan and Beaufays, while its fast online version was proposed by Campolucci, Uncini and Piazza.  Global optimization methods Training the weights in a neural network can be modeled as a non-linear global optimization problem. A target function can be formed to evaluate the fitness or error of a particular weight vector as follows: First, the weights in the network are set according to the weight vector. Next, the network is evaluated against the training sequence. Typically, the sum-squared-difference between the predictions and the target values specified in the training sequence is used to represent the error of the current weight vector. Arbitrary global optimization techniques may then be used to minimize this target function. The most common global optimization method for training RNNs is genetic algorithms, especially in unstructured networks. Initially, the genetic algorithm is encoded with the neural network weights in a predefined manner where one gene in the chromosome represents one weight link.The whole network is represented as a single chromosome. The fitness function is evaluated as follows: Each weight encoded in the chromosome is assigned to the respective weight link of the network. The training set is presented to the network which propagates the input signals forward. The mean-squared-error is returned to the fitness function. This function drives the genetic selection process. Many chromosomes make up the population; therefore, many different neural networks are evolved until a stopping criterion is satisfied. A common stopping scheme is: When the neural network has learnt a certain percentage of the training data or When the minimum value of the mean-squared-error is satisfied or When the maximum number of training generations has been reached. The stopping criterion is evaluated by the fitness function as it gets the reciprocal of the mean-squared-error from each network during training. Therefore, the goal of the genetic algorithm is to maximize the fitness function, reducing the mean-squared-error. Other global (and/or evolutionary) optimization techniques may be used to seek a good set of weights, such as simulated annealing or particle swarm optimization.  Related fields and models RNNs may behave chaotically. In such cases, dynamical systems theory may be used for analysis. They are in fact recursive neural networks with a particular structure: that of a linear chain. Whereas recursive neural networks operate on any hierarchical structure, combining child representations into parent representations, recurrent neural networks operate on the linear progression of time, combining the previous time step and a hidden representation into the representation for the current time step. In particular, RNNs can appear as nonlinear versions of finite impulse response and infinite impulse response filters and also as a nonlinear autoregressive exogenous model (NARX).  Libraries pytorch: Tensors and Dynamic neural networks in Python with strong GPU acceleration. Apache Singa Caffe: Created by the Berkeley Vision and Learning Center (BVLC). It supports both CPU and GPU. Developed in C++, and has Python and MATLAB wrappers. Deeplearning4j: Deep learning in Java and Scala on multi-GPU-enabled Spark. A general-purpose deep learning library for the JVM production stack running on a C++ scientific computing engine. Allows the creation of custom layers. Integrates with Hadoop and Kafka. Keras Microsoft Cognitive Toolkit TensorFlow: Apache 2.0-licensed Theano-like library with support for CPU, GPU and Google\\'s proprietary TPU, mobile Theano: The reference deep-learning library for Python with an API largely compatible with the popular NumPy library. Allows user to write symbolic mathematical expressions, then automatically generates their derivatives, saving the user from having to code gradients or backpropagation. These symbolic expressions are automatically compiled to CUDA code for a fast, on-the-GPU implementation. Torch (www.torch.ch): A scientific computing framework with wide support for machine learning algorithms, written in C and lua. The main author is Ronan Collobert, and it is now used at Facebook AI Research and Twitter. MXNet: a modern open-source deep learning framework used to train and deploy deep neural networks.  References  External links RNNSharp CRFs based on recurrent neural networks (C#, .NET) Recurrent Neural Networks with over 60 RNN papers by Jürgen Schmidhuber\\'s group at Dalle Molle Institute for Artificial Intelligence Research Elman Neural Network implementation for WEKA Recurrent Neural Nets & LSTMs in Java'"
      ]
     },
     "execution_count": 12,
     "metadata": {},
     "output_type": "execute_result"
    }
   ],
   "source": [
    "ml_bs_df['clean_content'][342]"
   ]
  },
  {
   "cell_type": "code",
   "execution_count": 40,
   "metadata": {},
   "outputs": [],
   "source": [
    "nltk_stop = stopwords.words('english')"
   ]
  },
  {
   "cell_type": "code",
   "execution_count": 9,
   "metadata": {},
   "outputs": [
    {
     "data": {
      "text/plain": [
       "307"
      ]
     },
     "execution_count": 9,
     "metadata": {},
     "output_type": "execute_result"
    }
   ],
   "source": [
    "len(STOP_WORDS)"
   ]
  },
  {
   "cell_type": "code",
   "execution_count": 13,
   "metadata": {},
   "outputs": [],
   "source": [
    "import re\n",
    "def cleaner(text):\n",
    "    #text = re.sub('&#39;','',text).lower()\n",
    "    text = re.sub('[\\d]','',text)\n",
    "    text = re.sub('\\\\ufeff', '', text)\n",
    "    text = re.sub('[^a-z ]','', text)\n",
    "    text = ' '.join(i.lemma_ for i in nlp(text)\n",
    "                    if i.orth_ not in STOP_WORDS)\n",
    "    text = ' '.join(text.split())\n",
    "    return text"
   ]
  },
  {
   "cell_type": "code",
   "execution_count": 14,
   "metadata": {},
   "outputs": [],
   "source": [
    "ml_bs_df['clean_content'] = ml_bs_df['clean_content'].apply(cleaner)"
   ]
  },
  {
   "cell_type": "code",
   "execution_count": 15,
   "metadata": {},
   "outputs": [
    {
     "data": {
      "text/plain": [
       "'recurrent neural network class artificial neural network connection unit form direct cycle allow exhibit dynamic temporal behavior nlike feedforward neural network s use internal memory process arbitrary sequence input make applicable task unsegmented connected handwriting recognition speech recognition istory ecurrent neural network develop s opfield network invent ohn opfield n neural history compressor system solve ery eep earn task require subsequent layer unfold time ong shortterm memory network invent ochreiter chmidhuber set accuracy record multiple application domain round start revolutionize speech recognition outperform traditional model certain speech application n onnectionist emporal lassification train network win pattern recognition contest win competition connected handwriting recognition n hinese search giant aidu train s break witchboard ub speech recognition benchmark traditional speech processing method improve largevocabulary speech recognition texttospeech synthesis oogle ndroid n oogle speech recognition reportedly experience dramatic performance jump train oogle voice search break record improve machine translation anguage odeling ultilingual anguage rocessing combine convolutional neural network s improve automatic image caption rchitecture s come variant ully recurrent asic s network neuronlike node direct oneway connection node ach node neuron timevarying realvalu activation ach connection synapse modifiable realvalu weight ode input node receive datum outside network output node yield result hide node modify datum en route input output supervise learning discrete time setting sequence realvalu input vector arrive input nod vector time t give time step noninput unit compute current activation result nonlinear function weighted sum activation unit connect upervisorgiven target activation supply output unit certain time step example input sequence speech signal correspond speak digit final target output end sequence label classify digit n reinforcement learning setting teacher provide target signal nstead fitness function reward function occasionally evaluate s performance influence input stream output unit connect actuator affect environment play game progress measure number point win ach sequence produce error sum deviation target signal correspond activation compute network training set numerous sequence total error sum error individual sequence ecursive recursive neural network create apply set weight recursively differentiable graphlike structure traverse structure topological order uch network typically train reverse mode automatic differentiation hey process distribute representation structure logical term special case recursive neural network structure correspond linear chain ecursive neural network apply natural language processing ecursive eural ensor etwork use tensorbased composition function node tree opfield opfield network connection symmetric t require stationary input general process sequence pattern t guarantee converge f connection train ebbian learning opfield network perform robust contentaddressable memory resistant connection alteration idirectional associative memory ntroduc osko bidirectional associative memory network variant opfield network store associative datum vector bidirectionality come pass information matrix transpose ypically bipolar encoding prefer binary encoding associative pair ecently stochastic model arkov step optimize increased network stability relevance realworld application network layer drive input recall association produce output layer lman network ordan network n lman network threelayer network arrange horizontally x y z illustration addition set context unit u illustration middle hide layer connect context unit fix weight t time step input fedforward learning rule apply fix backconnection save copy previous value hidden unit context unit propagate connection learning rule apply hus network maintain sort state allow perform task sequenceprediction power standard multilayer perceptron ordan network similar lman network context unit feed output layer instead hidden layer context unit ordan network refer state layer hey recurrent connection lman ordan network know simple recurrent network lman network h t h h x t h h t b h y t y y h t b y displaystyle beginalignedhtsigma hhxthhtbhytsigma yyhtbyendalign ordan network h t h h x t h y t b h y t y y h t b y displaystyle beginalignedhtsigma hhxthytbhytsigma yyhtbyendalign ariable function x t displaystyle xt input vector h t displaystyle ht hide layer vector y t displaystyle yt output vector displaystyle displaystyle b displaystyle b parameter matrix vector h displaystyle sigma h y displaystyle sigma y ctivation function cho state echo state network sparsely connect random hidden layer weight output neuron network change train s good reproduce certain time series variant spike neuron know liquid state machine eural history compressor neural history compressor unsupervised stack s t input level learn predict input previous input nly unpredictable input hierarchy input high level recomput internal state rarely ach high level study compressed representation information input sequence precisely reconstruct representation high level system effectively minimise description length negative logarithm probability datum iven lot learnable predictability incoming datum sequence high level use supervise learn easily classify deep sequence long interval important event t possible distill hierarchy s conscious chunker high level subconscious automatizer low level nce chunker learn predict compress input unpredictable automatizer automatizer force learning phase predict imitate additional unit hidden unit slowly change chunker make easy automatizer learn appropriate rarely change memory long interval n turn help automatizer unpredictable input predictable chunker focus remain unpredictable event generative model partially overcome vanish gradient problem automatic differentiation backpropagation neural network n system solve ery eep earn task require subsequent layer unfold time ong shortterm memory ong shortterm memory deep learning system avoid vanish gradient problem normally augment recurrent gate call forget gate prevent backpropagated error vanish explode nstead error flow backwards unlimited number virtual layer unfold space hat learn task require memory event happen thousand million discrete time step earlier roblemspecific like topology evolve work give long delay significant event handle signal mix low high frequency component application use stack s train onnectionist emporal lassification find weight matrix maximize probability label sequence training set give corresponding input sequence achieve alignment recognition learn recognize contextsensitive language unlike previous model base hide arkov model similar concept econd order s econd order s use high order weight w j k displaystyle wijk instead standard w j displaystyle wij weight input state product allow direct mapping finite state machine training stability representation ong shortterm memory example formal mapping proof stability at recurrent unit at recurrent unit s gating mechanism recurrent neural network introduce heir performance polyphonic music modeling speech signal modeling find similar long shortterm memory hey few parameter lack output gate idirectional idirectional s use finite sequence predict label element sequence base element past future context concatenate output s processing sequence left right right left combined output prediction teachergiven target signal technique prove especially useful combine s ontinuoustime continuous time recurrent neural network use system ordinary differential equation model effect neuron incoming spike train neuron displaystyle network action potential y displaystyle yi rate change activation give y y j n w j y j j t displaystyle tau idot yiyisum jnwjisigma yjheta jit displaystyle tau ime constant postsynaptic node y displaystyle yi ctivation postsynaptic node y displaystyle dot yi ate change activation postsynaptic node w j displaystyle wji connection pre postsynaptic node x displaystyle sigma x igmoid x eg x e x displaystyle sigma xex y j displaystyle yj ctivation presynaptic node j displaystyle heta j ia presynaptic node t displaystyle nput node s apply evolutionary robotic address vision cooperation minimal cognitive behaviour ote hannon sampling theorem discrete time recurrent neural network view continuoustime recurrent neural network differential equation transform equivalent difference equation transformation think occur postsynaptic node activation function y t displaystyle yit lowpass filter prior sampling ierarchical ierarchical s connect neuron way decompose hierarchical behavior useful subprogram ecurrent multilayer perceptron network enerally ecurrent ultiayer erceptron network consist cascade subnetwork contain multiple layer node ach subnetwork feedforward layer feedback connection ach subnet connect feed forward connection ultiple timescale model multiple timescale recurrent neural network neuralbased computational model simulate functional hierarchy brain selforganization depend spatial connection neuron distinct type neuron activity distinct time property ith varied neuronal activity continuous sequence set behavior segment reusable primitive turn flexibly integrate diverse sequential behavior biological approval type hierarchy discuss memoryprediction theory brain function awkin book n ntelligence eural uring machine eural uring machine s method extend recurrent neural network couple external memory resource interact attentional process combine system analogous uring machine eumann architecture differentiable endtoend allow efficiently train gradient descent ifferentiable neural computer ifferentiable neural computer s extension eural uring machine allow usage fuzzy amount memory address record chronology eural network pushdown automaton eural network pushdown automata similar s tape replace analogue stack differentiable train n way similar complexity recognizer context free grammar s rain radient descent radient descent firstorder iterative optimization algorithm find minimum function n neural network minimize error term change weight proportion derivative error respect weight provide nonlinear activation function differentiable arious method develop s early s erbos illiam obinson chmidhuber ochreiter earlmutter standard method call backpropagation time generalization backpropagation feedforward network ike method instance automatic differentiation reverse accumulation mode ontryagin minimum principle computationally expensive online variant call ealime ecurrent earning instance automatic differentiation forward accumulation mode stack tangent vector nlike algorithm local time local space n context local space mean unit weight vector update information store connected unit unit update complexity single unit linear dimensionality weight vector ocal time mean update place continually online depend recent time step multiple time step give time horizon iological neural network appear local respect time space recursively compute partial derivative timecomplexity number hide x number weight time step compute acobian matrix take number weight time step cost store forward activation give time horizon n online hybrid intermediate complexity exist variant continuous time major problem gradient descent standard architecture error gradient vanish exponentially quickly size time lag important event combine hybrid learning method attempt overcome problem online algorithm call causal recursive backpropagation implement combine paradigms locally recurrent network t work general locally recurrent network algorithm minimize global error term fact improve stability algorithm provide unifying view gradient calculation technique recurrent network local feedback ne approach computation gradient information s arbitrary architecture base signalflow graph diagrammatic derivation t use batch algorithm base ees theorem network sensitivity calculation t propose eaufay fast online version propose ampolucci ncini iazza lobal optimization method rain weight neural network model nonlinear global optimization problem target function form evaluate fitness error particular weight vector follow irst weight network set accord weight vector ext network evaluate training sequence ypically sumsquareddifference prediction target value specify training sequence represent error current weight vector rbitrary global optimization technique minimize target function common global optimization method training s genetic algorithms especially unstructured network nitially genetic algorithm encode neural network weight predefined manner gene chromosome represent weight linkhe network represent single chromosome fitness function evaluate follow ach weight encode chromosome assign respective weight link network train set present network propagate input signal forward meansquarederror return fitness function function drive genetic selection process chromosome population different neural network evolve stop criterion satisfied common stop scheme hen neural network learn certain percentage training datum hen minimum value meansquarederror satisfied hen maximum number training generation reach stop criterion evaluate fitness function get reciprocal meansquarederror network training herefore goal genetic algorithm maximize fitness function reduce meansquarederror ther global andor evolutionary optimization technique seek good set weight simulated annealing particle swarm optimization elated field model s behave chaotically n case dynamical system theory analysis hey fact recursive neural network particular structure linear chain herea recursive neural network operate hierarchical structure combine child representation parent representation recurrent neural network operate linear progression time combine previous time step hidden representation representation current time step n particular s appear nonlinear version finite impulse response infinite impulse response filter nonlinear autoregressive exogenous model ibrarie pytorch ensor ynamic neural network ython strong acceleration pache inga affe reat erkeley ision earn enter t support evelop ython wrapper eeplearningj eep learn ava cala multienabl park generalpurpose deep learn library production stack run scientific computing engine llow creation custom layer ntegrate adoop afka era icrosoft ognitive oolkit ensorlow pache license heanolike library support oogl proprietary mobile heano reference deeplearn library ython largely compatible popular umy library llow user write symbolic mathematical expression automatically generate derivative save user have code gradient backpropagation hese symbolic expression automatically compile code fast onthe implementation orch wwwtorchch scientific computing framework wide support machine learn algorithm write lua main author onan ollobert acebook esearch witter et modern opensource deep learning framework train deploy deep neural network eference xternal link harp s base recurrent neural network ecurrent eural etwork paper rgen chmidhuber group alle olle nstitute rtificial ntelligence esearch lman eural etwork implementation ecurrent eural et s ava'"
      ]
     },
     "execution_count": 15,
     "metadata": {},
     "output_type": "execute_result"
    }
   ],
   "source": [
    "ml_bs_df['clean_content'][342]"
   ]
  },
  {
   "cell_type": "code",
   "execution_count": 50,
   "metadata": {},
   "outputs": [
    {
     "data": {
      "text/plain": [
       "9591"
      ]
     },
     "execution_count": 50,
     "metadata": {},
     "output_type": "execute_result"
    }
   ],
   "source": [
    "len(ml_bs_df)"
   ]
  },
  {
   "cell_type": "code",
   "execution_count": 16,
   "metadata": {},
   "outputs": [
    {
     "data": {
      "text/html": [
       "<div>\n",
       "<table border=\"1\" class=\"dataframe\">\n",
       "  <thead>\n",
       "    <tr style=\"text-align: right;\">\n",
       "      <th></th>\n",
       "      <th>category</th>\n",
       "      <th>content</th>\n",
       "      <th>pageid</th>\n",
       "      <th>title</th>\n",
       "      <th>master_category</th>\n",
       "      <th>clean_content</th>\n",
       "    </tr>\n",
       "  </thead>\n",
       "  <tbody>\n",
       "    <tr>\n",
       "      <th>0</th>\n",
       "      <td>Machine learning</td>\n",
       "      <td>Data exploration is an approach similar to ini...</td>\n",
       "      <td>43385931</td>\n",
       "      <td>Data exploration</td>\n",
       "      <td>Machine learning</td>\n",
       "      <td>ata exploration approach similar initial datum...</td>\n",
       "    </tr>\n",
       "    <tr>\n",
       "      <th>1</th>\n",
       "      <td>Machine learning</td>\n",
       "      <td>These datasets are used for machine-learning r...</td>\n",
       "      <td>49082762</td>\n",
       "      <td>List of datasets for machine learning research</td>\n",
       "      <td>Machine learning</td>\n",
       "      <td>hese dataset machinelearn research cite peerre...</td>\n",
       "    </tr>\n",
       "    <tr>\n",
       "      <th>2</th>\n",
       "      <td>Machine learning</td>\n",
       "      <td>Machine learning is a field of computer scienc...</td>\n",
       "      <td>233488</td>\n",
       "      <td>Machine learning</td>\n",
       "      <td>Machine learning</td>\n",
       "      <td>achine learning field computer science give co...</td>\n",
       "    </tr>\n",
       "    <tr>\n",
       "      <th>3</th>\n",
       "      <td>Machine learning</td>\n",
       "      <td>The following outline is provided as an overvi...</td>\n",
       "      <td>53587467</td>\n",
       "      <td>Outline of machine learning</td>\n",
       "      <td>Machine learning</td>\n",
       "      <td>follow outline provide overview topical guide ...</td>\n",
       "    </tr>\n",
       "    <tr>\n",
       "      <th>4</th>\n",
       "      <td>Machine learning</td>\n",
       "      <td>The accuracy paradox for predictive analytics ...</td>\n",
       "      <td>3771060</td>\n",
       "      <td>Accuracy paradox</td>\n",
       "      <td>Machine learning</td>\n",
       "      <td>accuracy paradox predictive analytic state pre...</td>\n",
       "    </tr>\n",
       "  </tbody>\n",
       "</table>\n",
       "</div>"
      ],
      "text/plain": [
       "           category                                            content  \\\n",
       "0  Machine learning  Data exploration is an approach similar to ini...   \n",
       "1  Machine learning  These datasets are used for machine-learning r...   \n",
       "2  Machine learning  Machine learning is a field of computer scienc...   \n",
       "3  Machine learning  The following outline is provided as an overvi...   \n",
       "4  Machine learning  The accuracy paradox for predictive analytics ...   \n",
       "\n",
       "     pageid                                           title   master_category  \\\n",
       "0  43385931                                Data exploration  Machine learning   \n",
       "1  49082762  List of datasets for machine learning research  Machine learning   \n",
       "2    233488                                Machine learning  Machine learning   \n",
       "3  53587467                     Outline of machine learning  Machine learning   \n",
       "4   3771060                                Accuracy paradox  Machine learning   \n",
       "\n",
       "                                       clean_content  \n",
       "0  ata exploration approach similar initial datum...  \n",
       "1  hese dataset machinelearn research cite peerre...  \n",
       "2  achine learning field computer science give co...  \n",
       "3  follow outline provide overview topical guide ...  \n",
       "4  accuracy paradox predictive analytic state pre...  "
      ]
     },
     "execution_count": 16,
     "metadata": {},
     "output_type": "execute_result"
    }
   ],
   "source": [
    "ml_bs_df.head()"
   ]
  },
  {
   "cell_type": "markdown",
   "metadata": {},
   "source": [
    "## Creating Document_term matrix using Tfidf after cleaning"
   ]
  },
  {
   "cell_type": "code",
   "execution_count": 17,
   "metadata": {},
   "outputs": [],
   "source": [
    "tfidf = TfidfVectorizer(min_df = 10)"
   ]
  },
  {
   "cell_type": "code",
   "execution_count": 18,
   "metadata": {},
   "outputs": [],
   "source": [
    "ml_bs_tf = tfidf.fit_transform(ml_bs_df['clean_content'])"
   ]
  },
  {
   "cell_type": "code",
   "execution_count": 19,
   "metadata": {},
   "outputs": [],
   "source": [
    "ml_bs_tf_matrix_df = pd.DataFrame(ml_bs_tf.toarray(),\n",
    "                                       index=ml_bs_df.pageid,\n",
    "                                       columns=tfidf.get_feature_names())"
   ]
  },
  {
   "cell_type": "code",
   "execution_count": 20,
   "metadata": {},
   "outputs": [
    {
     "data": {
      "text/html": [
       "<div>\n",
       "<table border=\"1\" class=\"dataframe\">\n",
       "  <thead>\n",
       "    <tr style=\"text-align: right;\">\n",
       "      <th></th>\n",
       "      <th>aa</th>\n",
       "      <th>aadin</th>\n",
       "      <th>aan</th>\n",
       "      <th>aar</th>\n",
       "      <th>aas</th>\n",
       "      <th>ab</th>\n",
       "      <th>aba</th>\n",
       "      <th>abandon</th>\n",
       "      <th>abandonment</th>\n",
       "      <th>abb</th>\n",
       "      <th>...</th>\n",
       "      <th>zeri</th>\n",
       "      <th>zero</th>\n",
       "      <th>zeromean</th>\n",
       "      <th>zi</th>\n",
       "      <th>zip</th>\n",
       "      <th>zombie</th>\n",
       "      <th>zone</th>\n",
       "      <th>zoo</th>\n",
       "      <th>zoom</th>\n",
       "      <th>zure</th>\n",
       "    </tr>\n",
       "    <tr>\n",
       "      <th>pageid</th>\n",
       "      <th></th>\n",
       "      <th></th>\n",
       "      <th></th>\n",
       "      <th></th>\n",
       "      <th></th>\n",
       "      <th></th>\n",
       "      <th></th>\n",
       "      <th></th>\n",
       "      <th></th>\n",
       "      <th></th>\n",
       "      <th></th>\n",
       "      <th></th>\n",
       "      <th></th>\n",
       "      <th></th>\n",
       "      <th></th>\n",
       "      <th></th>\n",
       "      <th></th>\n",
       "      <th></th>\n",
       "      <th></th>\n",
       "      <th></th>\n",
       "      <th></th>\n",
       "    </tr>\n",
       "  </thead>\n",
       "  <tbody>\n",
       "    <tr>\n",
       "      <th>43385931</th>\n",
       "      <td>0.0</td>\n",
       "      <td>0.0</td>\n",
       "      <td>0.0</td>\n",
       "      <td>0.0</td>\n",
       "      <td>0.0</td>\n",
       "      <td>0.000000</td>\n",
       "      <td>0.0</td>\n",
       "      <td>0.000000</td>\n",
       "      <td>0.0</td>\n",
       "      <td>0.0</td>\n",
       "      <td>...</td>\n",
       "      <td>0.0</td>\n",
       "      <td>0.000000</td>\n",
       "      <td>0.0</td>\n",
       "      <td>0.0</td>\n",
       "      <td>0.0</td>\n",
       "      <td>0.0</td>\n",
       "      <td>0.0</td>\n",
       "      <td>0.0</td>\n",
       "      <td>0.0</td>\n",
       "      <td>0.000000</td>\n",
       "    </tr>\n",
       "    <tr>\n",
       "      <th>49082762</th>\n",
       "      <td>0.0</td>\n",
       "      <td>0.0</td>\n",
       "      <td>0.0</td>\n",
       "      <td>0.0</td>\n",
       "      <td>0.0</td>\n",
       "      <td>0.000000</td>\n",
       "      <td>0.0</td>\n",
       "      <td>0.000000</td>\n",
       "      <td>0.0</td>\n",
       "      <td>0.0</td>\n",
       "      <td>...</td>\n",
       "      <td>0.0</td>\n",
       "      <td>0.000000</td>\n",
       "      <td>0.0</td>\n",
       "      <td>0.0</td>\n",
       "      <td>0.0</td>\n",
       "      <td>0.0</td>\n",
       "      <td>0.0</td>\n",
       "      <td>0.0</td>\n",
       "      <td>0.0</td>\n",
       "      <td>0.000000</td>\n",
       "    </tr>\n",
       "    <tr>\n",
       "      <th>233488</th>\n",
       "      <td>0.0</td>\n",
       "      <td>0.0</td>\n",
       "      <td>0.0</td>\n",
       "      <td>0.0</td>\n",
       "      <td>0.0</td>\n",
       "      <td>0.000000</td>\n",
       "      <td>0.0</td>\n",
       "      <td>0.010032</td>\n",
       "      <td>0.0</td>\n",
       "      <td>0.0</td>\n",
       "      <td>...</td>\n",
       "      <td>0.0</td>\n",
       "      <td>0.009145</td>\n",
       "      <td>0.0</td>\n",
       "      <td>0.0</td>\n",
       "      <td>0.0</td>\n",
       "      <td>0.0</td>\n",
       "      <td>0.0</td>\n",
       "      <td>0.0</td>\n",
       "      <td>0.0</td>\n",
       "      <td>0.000000</td>\n",
       "    </tr>\n",
       "    <tr>\n",
       "      <th>53587467</th>\n",
       "      <td>0.0</td>\n",
       "      <td>0.0</td>\n",
       "      <td>0.0</td>\n",
       "      <td>0.0</td>\n",
       "      <td>0.0</td>\n",
       "      <td>0.020099</td>\n",
       "      <td>0.0</td>\n",
       "      <td>0.000000</td>\n",
       "      <td>0.0</td>\n",
       "      <td>0.0</td>\n",
       "      <td>...</td>\n",
       "      <td>0.0</td>\n",
       "      <td>0.000000</td>\n",
       "      <td>0.0</td>\n",
       "      <td>0.0</td>\n",
       "      <td>0.0</td>\n",
       "      <td>0.0</td>\n",
       "      <td>0.0</td>\n",
       "      <td>0.0</td>\n",
       "      <td>0.0</td>\n",
       "      <td>0.008608</td>\n",
       "    </tr>\n",
       "    <tr>\n",
       "      <th>3771060</th>\n",
       "      <td>0.0</td>\n",
       "      <td>0.0</td>\n",
       "      <td>0.0</td>\n",
       "      <td>0.0</td>\n",
       "      <td>0.0</td>\n",
       "      <td>0.000000</td>\n",
       "      <td>0.0</td>\n",
       "      <td>0.000000</td>\n",
       "      <td>0.0</td>\n",
       "      <td>0.0</td>\n",
       "      <td>...</td>\n",
       "      <td>0.0</td>\n",
       "      <td>0.000000</td>\n",
       "      <td>0.0</td>\n",
       "      <td>0.0</td>\n",
       "      <td>0.0</td>\n",
       "      <td>0.0</td>\n",
       "      <td>0.0</td>\n",
       "      <td>0.0</td>\n",
       "      <td>0.0</td>\n",
       "      <td>0.000000</td>\n",
       "    </tr>\n",
       "  </tbody>\n",
       "</table>\n",
       "<p>5 rows × 15083 columns</p>\n",
       "</div>"
      ],
      "text/plain": [
       "           aa  aadin  aan  aar  aas        ab  aba   abandon  abandonment  \\\n",
       "pageid                                                                      \n",
       "43385931  0.0    0.0  0.0  0.0  0.0  0.000000  0.0  0.000000          0.0   \n",
       "49082762  0.0    0.0  0.0  0.0  0.0  0.000000  0.0  0.000000          0.0   \n",
       "233488    0.0    0.0  0.0  0.0  0.0  0.000000  0.0  0.010032          0.0   \n",
       "53587467  0.0    0.0  0.0  0.0  0.0  0.020099  0.0  0.000000          0.0   \n",
       "3771060   0.0    0.0  0.0  0.0  0.0  0.000000  0.0  0.000000          0.0   \n",
       "\n",
       "          abb    ...     zeri      zero  zeromean   zi  zip  zombie  zone  \\\n",
       "pageid           ...                                                        \n",
       "43385931  0.0    ...      0.0  0.000000       0.0  0.0  0.0     0.0   0.0   \n",
       "49082762  0.0    ...      0.0  0.000000       0.0  0.0  0.0     0.0   0.0   \n",
       "233488    0.0    ...      0.0  0.009145       0.0  0.0  0.0     0.0   0.0   \n",
       "53587467  0.0    ...      0.0  0.000000       0.0  0.0  0.0     0.0   0.0   \n",
       "3771060   0.0    ...      0.0  0.000000       0.0  0.0  0.0     0.0   0.0   \n",
       "\n",
       "          zoo  zoom      zure  \n",
       "pageid                         \n",
       "43385931  0.0   0.0  0.000000  \n",
       "49082762  0.0   0.0  0.000000  \n",
       "233488    0.0   0.0  0.000000  \n",
       "53587467  0.0   0.0  0.008608  \n",
       "3771060   0.0   0.0  0.000000  \n",
       "\n",
       "[5 rows x 15083 columns]"
      ]
     },
     "execution_count": 20,
     "metadata": {},
     "output_type": "execute_result"
    }
   ],
   "source": [
    "ml_bs_tf_matrix_df.head()"
   ]
  },
  {
   "cell_type": "code",
   "execution_count": null,
   "metadata": {},
   "outputs": [],
   "source": [
    "target = "
   ]
  },
  {
   "cell_type": "code",
   "execution_count": 66,
   "metadata": {},
   "outputs": [],
   "source": [
    "ml_bs_tf_matrix_df.to_pickle('/home/jovyan/Jupyter_Repository/Practice_exercise/Project_4-wkiAPI-/Output/ml_bs_tf_matrix_df.p')"
   ]
  },
  {
   "cell_type": "markdown",
   "metadata": {},
   "source": [
    "## Creating function to find similar document:"
   ]
  },
  {
   "cell_type": "code",
   "execution_count": 56,
   "metadata": {},
   "outputs": [],
   "source": [
    "from sklearn.metrics.pairwise import cosine_similarity\n",
    "from sklearn.decomposition import TruncatedSVD"
   ]
  },
  {
   "cell_type": "code",
   "execution_count": 57,
   "metadata": {},
   "outputs": [],
   "source": [
    "def doc_matrix(df, array, min_df, search_query, n_comp ):\n",
    "    tfidf = TfidfVectorizer(ngram_range=(1,2), min_df = min_df)\n",
    "    array_tf = tfidf.fit_transform(array)\n",
    "    array_tf_df =  pd.DataFrame(array_tf.toarray(), index=df.pageid, columns=tfidf.get_feature_names())\n",
    "    #return array_tf_df.shape\n",
    "    \n",
    "    query = pd.Series(search_query)\n",
    "    query_tf = tfidf.transform(query)\n",
    "    query_tf_df = pd.DataFrame(query_tf.toarray(), \n",
    "                                       index=query, \n",
    "                                       columns=tfidf.get_feature_names())\n",
    "    query_df_tf_df = array_tf_df.append(query_tf_df)\n",
    "    \n",
    "    svd = TruncatedSVD(n_components= n_comp)\n",
    "    component_names = [\"component_\"+str(i+1) for i in range(n_comp)]\n",
    "    svd_matrix = svd.fit_transform(query_df_tf_df)\n",
    "    svd_df = pd.DataFrame(svd_matrix, index=query_df_tf_df.index, columns=component_names)\n",
    "    \n",
    "    search_term_svd_vector = svd_df.loc[query_tf_df.index]\n",
    "    svd_df['cosine_sim'] = cosine_similarity(svd_df, search_term_svd_vector)\n",
    "    return svd_df[['cosine_sim']].sort_values('cosine_sim', ascending=False).head(5)"
   ]
  },
  {
   "cell_type": "code",
   "execution_count": 62,
   "metadata": {},
   "outputs": [
    {
     "data": {
      "text/html": [
       "<div>\n",
       "<table border=\"1\" class=\"dataframe\">\n",
       "  <thead>\n",
       "    <tr style=\"text-align: right;\">\n",
       "      <th></th>\n",
       "      <th>cosine_sim</th>\n",
       "    </tr>\n",
       "  </thead>\n",
       "  <tbody>\n",
       "    <tr>\n",
       "      <th>in fact recursive neural networks with a particular structure</th>\n",
       "      <td>1.000000</td>\n",
       "    </tr>\n",
       "    <tr>\n",
       "      <th>43705185</th>\n",
       "      <td>0.763987</td>\n",
       "    </tr>\n",
       "    <tr>\n",
       "      <th>47349395</th>\n",
       "      <td>0.762737</td>\n",
       "    </tr>\n",
       "    <tr>\n",
       "      <th>1635395</th>\n",
       "      <td>0.761426</td>\n",
       "    </tr>\n",
       "    <tr>\n",
       "      <th>3712924</th>\n",
       "      <td>0.748884</td>\n",
       "    </tr>\n",
       "  </tbody>\n",
       "</table>\n",
       "</div>"
      ],
      "text/plain": [
       "                                                    cosine_sim\n",
       "in fact recursive neural networks with a partic...    1.000000\n",
       "43705185                                              0.763987\n",
       "47349395                                              0.762737\n",
       "1635395                                               0.761426\n",
       "3712924                                               0.748884"
      ]
     },
     "execution_count": 62,
     "metadata": {},
     "output_type": "execute_result"
    }
   ],
   "source": [
    "doc_matrix(ml_bs_df, ml_bs_df['clean_content'], 10, 'in fact recursive neural networks with a particular structure', 500)"
   ]
  },
  {
   "cell_type": "code",
   "execution_count": 65,
   "metadata": {},
   "outputs": [
    {
     "data": {
      "text/plain": [
       "343    recursive neural network rvnn kind deep neural...\n",
       "Name: clean_content, dtype: object"
      ]
     },
     "execution_count": 65,
     "metadata": {},
     "output_type": "execute_result"
    }
   ],
   "source": [
    "ml_bs_df['clean_content'][ml_bs_df['pageid']==43705185]"
   ]
  },
  {
   "cell_type": "code",
   "execution_count": null,
   "metadata": {},
   "outputs": [],
   "source": []
  }
 ],
 "metadata": {
  "kernelspec": {
   "display_name": "Python 3",
   "language": "python",
   "name": "python3"
  },
  "language_info": {
   "codemirror_mode": {
    "name": "ipython",
    "version": 3
   },
   "file_extension": ".py",
   "mimetype": "text/x-python",
   "name": "python",
   "nbconvert_exporter": "python",
   "pygments_lexer": "ipython3",
   "version": "3.6.2"
  }
 },
 "nbformat": 4,
 "nbformat_minor": 2
}
